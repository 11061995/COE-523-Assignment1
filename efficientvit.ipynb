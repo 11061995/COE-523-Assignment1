{
  "nbformat": 4,
  "nbformat_minor": 0,
  "metadata": {
    "colab": {
      "provenance": [],
      "gpuType": "T4",
      "authorship_tag": "ABX9TyOxSk+EPnBGCBEHXraMuGMx",
      "include_colab_link": true
    },
    "kernelspec": {
      "name": "python3",
      "display_name": "Python 3"
    },
    "language_info": {
      "name": "python"
    },
    "accelerator": "GPU"
  },
  "cells": [
    {
      "cell_type": "markdown",
      "metadata": {
        "id": "view-in-github",
        "colab_type": "text"
      },
      "source": [
        "<a href=\"https://colab.research.google.com/github/11061995/COE-523-Assignment1/blob/main/efficientvit.ipynb\" target=\"_parent\"><img src=\"https://colab.research.google.com/assets/colab-badge.svg\" alt=\"Open In Colab\"/></a>"
      ]
    },
    {
      "cell_type": "markdown",
      "source": [
        "### Step 1: Mounting data & repo"
      ],
      "metadata": {
        "id": "wyquSNTl2i1z"
      }
    },
    {
      "cell_type": "code",
      "source": [
        "from google.colab import drive\n",
        "drive.mount('/content/drive')"
      ],
      "metadata": {
        "colab": {
          "base_uri": "https://localhost:8080/"
        },
        "id": "T1y_Wn1Go_On",
        "outputId": "561a6535-a816-4865-f357-9d69584c126d"
      },
      "execution_count": null,
      "outputs": [
        {
          "output_type": "stream",
          "name": "stdout",
          "text": [
            "Drive already mounted at /content/drive; to attempt to forcibly remount, call drive.mount(\"/content/drive\", force_remount=True).\n"
          ]
        }
      ]
    },
    {
      "cell_type": "code",
      "source": [
        "!rm -rf Cream  # Remove existing directory if needed\n",
        "!git clone https://github.com/microsoft/Cream.git\n",
        "!ls\n",
        "#cd Cream/EfficientViT/classification"
      ],
      "metadata": {
        "colab": {
          "base_uri": "https://localhost:8080/"
        },
        "id": "BCRLDDN9wAwY",
        "outputId": "e593ac60-c07b-48b2-a3e6-e6a93f410ce3"
      },
      "execution_count": null,
      "outputs": [
        {
          "output_type": "stream",
          "name": "stdout",
          "text": [
            "Cloning into 'Cream'...\n",
            "remote: Enumerating objects: 2175, done.\u001b[K\n",
            "remote: Counting objects: 100% (265/265), done.\u001b[K\n",
            "remote: Compressing objects: 100% (76/76), done.\u001b[K\n",
            "remote: Total 2175 (delta 201), reused 189 (delta 189), pack-reused 1910 (from 2)\u001b[K\n",
            "Receiving objects: 100% (2175/2175), 8.81 MiB | 25.34 MiB/s, done.\n",
            "Resolving deltas: 100% (831/831), done.\n",
            "Cream  data  drive  sample_data\n"
          ]
        }
      ]
    },
    {
      "cell_type": "code",
      "source": [
        "import torch\n",
        "from torchvision import datasets, transforms\n",
        "\n",
        "# Define transforms (CIFAR-10 images are 32x32 pixels)\n",
        "train_transform = transforms.Compose([\n",
        "    transforms.RandomHorizontalFlip(),\n",
        "    transforms.RandomCrop(32, padding=4),\n",
        "    transforms.ToTensor(),\n",
        "    transforms.Normalize(mean=[0.4914, 0.4822, 0.4465], std=[0.2470, 0.2435, 0.2616])\n",
        "])\n",
        "\n",
        "val_transform = transforms.Compose([\n",
        "    transforms.ToTensor(),\n",
        "    transforms.Normalize(mean=[0.4914, 0.4822, 0.4465], std=[0.2470, 0.2435, 0.2616])\n",
        "])\n",
        "\n",
        "# Download and load CIFAR-10 datasets\n",
        "train_dataset = datasets.CIFAR10(\n",
        "    root='./data',   # Dataset will be saved to /content/data\n",
        "    train=True,      # Load training set\n",
        "    download=True,   # Auto-download if not found\n",
        "    transform=train_transform\n",
        ")\n",
        "\n",
        "val_dataset = datasets.CIFAR10(\n",
        "    root='./data',   # Same root path\n",
        "    train=False,     # Load validation/test set\n",
        "    download=True,\n",
        "    transform=val_transform\n",
        ")\n",
        "\n",
        "print(\"Training samples:\", len(train_dataset))    # 50,000 images\n",
        "print(\"Validation samples:\", len(val_dataset))   # 10,000 images"
      ],
      "metadata": {
        "colab": {
          "base_uri": "https://localhost:8080/"
        },
        "id": "KK0kH24DTjoP",
        "outputId": "14265b62-ff8e-4ef8-a6f9-3f8d8ae31a03"
      },
      "execution_count": null,
      "outputs": [
        {
          "output_type": "stream",
          "name": "stdout",
          "text": [
            "Training samples: 50000\n",
            "Validation samples: 10000\n"
          ]
        }
      ]
    },
    {
      "cell_type": "markdown",
      "source": [
        "### Step 2:Reorganize the validation set to match the train folder structure:"
      ],
      "metadata": {
        "id": "a-I4iFgm7rFa"
      }
    },
    {
      "cell_type": "code",
      "source": [
        "import os\n",
        "import torch\n",
        "from torchvision import datasets, transforms\n",
        "from torch.utils.data import DataLoader\n",
        "\n",
        "# Define transforms\n",
        "train_transform = transforms.Compose([\n",
        "    transforms.RandomHorizontalFlip(),\n",
        "    transforms.RandomCrop(32, padding=4),\n",
        "    transforms.ToTensor(),\n",
        "    transforms.Normalize(mean=[0.4914, 0.4822, 0.4465], std=[0.2470, 0.2435, 0.2616])\n",
        "])\n",
        "\n",
        "val_transform = transforms.Compose([\n",
        "    transforms.ToTensor(),\n",
        "    transforms.Normalize(mean=[0.4914, 0.4822, 0.4465], std=[0.2470, 0.2435, 0.2616])\n",
        "])\n",
        "\n",
        "# Load datasets\n",
        "train_dataset = datasets.CIFAR10(root='./data', train=True, download=True, transform=train_transform)\n",
        "val_dataset = datasets.CIFAR10(root='./data', train=False, download=True, transform=val_transform)\n",
        "\n",
        "# Create data loaders\n",
        "batch_size = 128\n",
        "train_loader = DataLoader(train_dataset, batch_size=batch_size, shuffle=True, num_workers=2)\n",
        "val_loader = DataLoader(val_dataset, batch_size=batch_size, shuffle=False, num_workers=2)"
      ],
      "metadata": {
        "id": "2J_rI8v-B5Fg"
      },
      "execution_count": null,
      "outputs": []
    },
    {
      "cell_type": "markdown",
      "source": [
        "### Step 3: Modify the Configuration File"
      ],
      "metadata": {
        "id": "beB6f3Zr9I6Z"
      }
    },
    {
      "cell_type": "markdown",
      "source": [
        "Edit the config file (configs/efficientvit.yaml) to match your dataset:"
      ],
      "metadata": {
        "id": "EkzZi5p59TKt"
      }
    },
    {
      "cell_type": "code",
      "source": [
        "# ✅ Correct (Python dictionary)\n",
        "config = {\n",
        "    \"model\": {\n",
        "        \"type\": \"efficientvit\",\n",
        "        \"input_size\": 32  # For CIFAR-10 (32x32 images)\n",
        "    },\n",
        "    \"data\": {\n",
        "        \"name\": \"cifar10\",\n",
        "        \"num_classes\": 10\n",
        "    }\n",
        "}"
      ],
      "metadata": {
        "id": "eKUa4o6A9PEy"
      },
      "execution_count": null,
      "outputs": []
    },
    {
      "cell_type": "code",
      "source": [
        "%cd Cream/EfficientViT/classification/model/\n",
        "!ls  # Verify efficientvit.py exists"
      ],
      "metadata": {
        "colab": {
          "base_uri": "https://localhost:8080/"
        },
        "id": "H77_0bPKZwj7",
        "outputId": "b76eef69-8821-4944-8030-a0f60dae05d9"
      },
      "execution_count": null,
      "outputs": [
        {
          "output_type": "stream",
          "name": "stdout",
          "text": [
            "/content/Cream/EfficientViT/classification/model\n",
            "build.py  efficientvit.py  __init__.py\n"
          ]
        }
      ]
    },
    {
      "cell_type": "code",
      "source": [
        "cd classification/"
      ],
      "metadata": {
        "colab": {
          "base_uri": "https://localhost:8080/"
        },
        "id": "TCcjUPZ_A1Cw",
        "outputId": "af9491f5-dc5c-46c9-b01f-38571c168683"
      },
      "execution_count": null,
      "outputs": [
        {
          "output_type": "stream",
          "name": "stdout",
          "text": [
            "[Errno 2] No such file or directory: 'classification/'\n",
            "/content/Cream/EfficientViT/classification/model\n"
          ]
        }
      ]
    },
    {
      "cell_type": "markdown",
      "source": [
        "### Step 4: install requirement"
      ],
      "metadata": {
        "id": "crd4H4am9erK"
      }
    },
    {
      "cell_type": "markdown",
      "source": [
        "Modify the dataset loading in train.py (or create a new file datasets/cifar10.py)"
      ],
      "metadata": {
        "id": "mu0IaULU9kbm"
      }
    },
    {
      "cell_type": "code",
      "source": [
        "!pip3 install torch torchvision timm einops fvcore easydict matplotlib numpy yacs scikit-image pillow"
      ],
      "metadata": {
        "colab": {
          "base_uri": "https://localhost:8080/"
        },
        "id": "_aJURZyUDolT",
        "outputId": "b5fa85cc-c3e8-459e-8349-ea4b091b1a32"
      },
      "execution_count": null,
      "outputs": [
        {
          "output_type": "stream",
          "name": "stdout",
          "text": [
            "Requirement already satisfied: torch in /usr/local/lib/python3.11/dist-packages (2.6.0+cu124)\n",
            "Requirement already satisfied: torchvision in /usr/local/lib/python3.11/dist-packages (0.21.0+cu124)\n",
            "Requirement already satisfied: timm in /usr/local/lib/python3.11/dist-packages (1.0.15)\n",
            "Requirement already satisfied: einops in /usr/local/lib/python3.11/dist-packages (0.8.1)\n",
            "Requirement already satisfied: fvcore in /usr/local/lib/python3.11/dist-packages (0.1.5.post20221221)\n",
            "Requirement already satisfied: easydict in /usr/local/lib/python3.11/dist-packages (1.13)\n",
            "Requirement already satisfied: matplotlib in /usr/local/lib/python3.11/dist-packages (3.10.0)\n",
            "Requirement already satisfied: numpy in /usr/local/lib/python3.11/dist-packages (2.0.2)\n",
            "Requirement already satisfied: yacs in /usr/local/lib/python3.11/dist-packages (0.1.8)\n",
            "Requirement already satisfied: scikit-image in /usr/local/lib/python3.11/dist-packages (0.25.2)\n",
            "Requirement already satisfied: pillow in /usr/local/lib/python3.11/dist-packages (11.1.0)\n",
            "Requirement already satisfied: filelock in /usr/local/lib/python3.11/dist-packages (from torch) (3.18.0)\n",
            "Requirement already satisfied: typing-extensions>=4.10.0 in /usr/local/lib/python3.11/dist-packages (from torch) (4.12.2)\n",
            "Requirement already satisfied: networkx in /usr/local/lib/python3.11/dist-packages (from torch) (3.4.2)\n",
            "Requirement already satisfied: jinja2 in /usr/local/lib/python3.11/dist-packages (from torch) (3.1.6)\n",
            "Requirement already satisfied: fsspec in /usr/local/lib/python3.11/dist-packages (from torch) (2025.3.0)\n",
            "Requirement already satisfied: nvidia-cuda-nvrtc-cu12==12.4.127 in /usr/local/lib/python3.11/dist-packages (from torch) (12.4.127)\n",
            "Requirement already satisfied: nvidia-cuda-runtime-cu12==12.4.127 in /usr/local/lib/python3.11/dist-packages (from torch) (12.4.127)\n",
            "Requirement already satisfied: nvidia-cuda-cupti-cu12==12.4.127 in /usr/local/lib/python3.11/dist-packages (from torch) (12.4.127)\n",
            "Requirement already satisfied: nvidia-cudnn-cu12==9.1.0.70 in /usr/local/lib/python3.11/dist-packages (from torch) (9.1.0.70)\n",
            "Requirement already satisfied: nvidia-cublas-cu12==12.4.5.8 in /usr/local/lib/python3.11/dist-packages (from torch) (12.4.5.8)\n",
            "Requirement already satisfied: nvidia-cufft-cu12==11.2.1.3 in /usr/local/lib/python3.11/dist-packages (from torch) (11.2.1.3)\n",
            "Requirement already satisfied: nvidia-curand-cu12==10.3.5.147 in /usr/local/lib/python3.11/dist-packages (from torch) (10.3.5.147)\n",
            "Requirement already satisfied: nvidia-cusolver-cu12==11.6.1.9 in /usr/local/lib/python3.11/dist-packages (from torch) (11.6.1.9)\n",
            "Requirement already satisfied: nvidia-cusparse-cu12==12.3.1.170 in /usr/local/lib/python3.11/dist-packages (from torch) (12.3.1.170)\n",
            "Requirement already satisfied: nvidia-cusparselt-cu12==0.6.2 in /usr/local/lib/python3.11/dist-packages (from torch) (0.6.2)\n",
            "Requirement already satisfied: nvidia-nccl-cu12==2.21.5 in /usr/local/lib/python3.11/dist-packages (from torch) (2.21.5)\n",
            "Requirement already satisfied: nvidia-nvtx-cu12==12.4.127 in /usr/local/lib/python3.11/dist-packages (from torch) (12.4.127)\n",
            "Requirement already satisfied: nvidia-nvjitlink-cu12==12.4.127 in /usr/local/lib/python3.11/dist-packages (from torch) (12.4.127)\n",
            "Requirement already satisfied: triton==3.2.0 in /usr/local/lib/python3.11/dist-packages (from torch) (3.2.0)\n",
            "Requirement already satisfied: sympy==1.13.1 in /usr/local/lib/python3.11/dist-packages (from torch) (1.13.1)\n",
            "Requirement already satisfied: mpmath<1.4,>=1.1.0 in /usr/local/lib/python3.11/dist-packages (from sympy==1.13.1->torch) (1.3.0)\n",
            "Requirement already satisfied: pyyaml in /usr/local/lib/python3.11/dist-packages (from timm) (6.0.2)\n",
            "Requirement already satisfied: huggingface_hub in /usr/local/lib/python3.11/dist-packages (from timm) (0.29.3)\n",
            "Requirement already satisfied: safetensors in /usr/local/lib/python3.11/dist-packages (from timm) (0.5.3)\n",
            "Requirement already satisfied: tqdm in /usr/local/lib/python3.11/dist-packages (from fvcore) (4.67.1)\n",
            "Requirement already satisfied: termcolor>=1.1 in /usr/local/lib/python3.11/dist-packages (from fvcore) (2.5.0)\n",
            "Requirement already satisfied: tabulate in /usr/local/lib/python3.11/dist-packages (from fvcore) (0.9.0)\n",
            "Requirement already satisfied: iopath>=0.1.7 in /usr/local/lib/python3.11/dist-packages (from fvcore) (0.1.10)\n",
            "Requirement already satisfied: contourpy>=1.0.1 in /usr/local/lib/python3.11/dist-packages (from matplotlib) (1.3.1)\n",
            "Requirement already satisfied: cycler>=0.10 in /usr/local/lib/python3.11/dist-packages (from matplotlib) (0.12.1)\n",
            "Requirement already satisfied: fonttools>=4.22.0 in /usr/local/lib/python3.11/dist-packages (from matplotlib) (4.56.0)\n",
            "Requirement already satisfied: kiwisolver>=1.3.1 in /usr/local/lib/python3.11/dist-packages (from matplotlib) (1.4.8)\n",
            "Requirement already satisfied: packaging>=20.0 in /usr/local/lib/python3.11/dist-packages (from matplotlib) (24.2)\n",
            "Requirement already satisfied: pyparsing>=2.3.1 in /usr/local/lib/python3.11/dist-packages (from matplotlib) (3.2.1)\n",
            "Requirement already satisfied: python-dateutil>=2.7 in /usr/local/lib/python3.11/dist-packages (from matplotlib) (2.8.2)\n",
            "Requirement already satisfied: scipy>=1.11.4 in /usr/local/lib/python3.11/dist-packages (from scikit-image) (1.14.1)\n",
            "Requirement already satisfied: imageio!=2.35.0,>=2.33 in /usr/local/lib/python3.11/dist-packages (from scikit-image) (2.37.0)\n",
            "Requirement already satisfied: tifffile>=2022.8.12 in /usr/local/lib/python3.11/dist-packages (from scikit-image) (2025.3.13)\n",
            "Requirement already satisfied: lazy-loader>=0.4 in /usr/local/lib/python3.11/dist-packages (from scikit-image) (0.4)\n",
            "Requirement already satisfied: portalocker in /usr/local/lib/python3.11/dist-packages (from iopath>=0.1.7->fvcore) (3.1.1)\n",
            "Requirement already satisfied: six>=1.5 in /usr/local/lib/python3.11/dist-packages (from python-dateutil>=2.7->matplotlib) (1.17.0)\n",
            "Requirement already satisfied: requests in /usr/local/lib/python3.11/dist-packages (from huggingface_hub->timm) (2.32.3)\n",
            "Requirement already satisfied: MarkupSafe>=2.0 in /usr/local/lib/python3.11/dist-packages (from jinja2->torch) (3.0.2)\n",
            "Requirement already satisfied: charset-normalizer<4,>=2 in /usr/local/lib/python3.11/dist-packages (from requests->huggingface_hub->timm) (3.4.1)\n",
            "Requirement already satisfied: idna<4,>=2.5 in /usr/local/lib/python3.11/dist-packages (from requests->huggingface_hub->timm) (3.10)\n",
            "Requirement already satisfied: urllib3<3,>=1.21.1 in /usr/local/lib/python3.11/dist-packages (from requests->huggingface_hub->timm) (2.3.0)\n",
            "Requirement already satisfied: certifi>=2017.4.17 in /usr/local/lib/python3.11/dist-packages (from requests->huggingface_hub->timm) (2025.1.31)\n"
          ]
        }
      ]
    },
    {
      "cell_type": "markdown",
      "source": [
        "### Step 5: Adjust Model Architecture"
      ],
      "metadata": {
        "id": "peie-v76AoL7"
      }
    },
    {
      "cell_type": "markdown",
      "source": [
        "In models/efficientvit.py, ensure the final classification head matches your dataset classes"
      ],
      "metadata": {
        "id": "rxv-3g2TAsm5"
      }
    },
    {
      "cell_type": "code",
      "source": [
        "!pip install efficientvit\n",
        "from efficientvit import EfficientViT\n",
        "\n",
        "# Initialize model with PROPER parameters\n",
        "model = EfficientViT(\n",
        "    img_size=32,       # ✅ Correct parameter name (not image_size)\n",
        "    num_classes=10,      # CIFAR-10 has 10 classes\n",
        "    patch_size=4,        # 32x32 → 32/4=8 patches per dimension\n",
        "    embed_dim=[64, 128, 192],  # Reduced dimensions for CIFAR-10\n",
        "    window_size=[6, 6, 6],     # Smaller window size for 32x32 input\n",
        "    kernels=[5, 5, 5, 5]\n",
        ")\n",
        "\n"
      ],
      "metadata": {
        "colab": {
          "base_uri": "https://localhost:8080/"
        },
        "id": "eVH9DYxyXuaK",
        "outputId": "c88bdb43-8229-4f09-b689-6a1597f502f2"
      },
      "execution_count": null,
      "outputs": [
        {
          "output_type": "stream",
          "name": "stdout",
          "text": [
            "\u001b[31mERROR: Could not find a version that satisfies the requirement efficientvit (from versions: none)\u001b[0m\u001b[31m\n",
            "\u001b[0m\u001b[31mERROR: No matching distribution found for efficientvit\u001b[0m\u001b[31m\n",
            "\u001b[0m"
          ]
        },
        {
          "output_type": "stream",
          "name": "stderr",
          "text": [
            "/usr/local/lib/python3.11/dist-packages/timm/models/layers/__init__.py:48: FutureWarning: Importing from timm.models.layers is deprecated, please import via timm.layers\n",
            "  warnings.warn(f\"Importing from {__name__} is deprecated, please import via timm.layers\", FutureWarning)\n"
          ]
        }
      ]
    },
    {
      "cell_type": "code",
      "source": [
        "model = EfficientViT(img_size=32, num_classes=10)\n",
        "x = torch.randn(2, 3, 32, 32)  # Test batch\n",
        "print(model(x).shape)  # Should output [2, 10]"
      ],
      "metadata": {
        "colab": {
          "base_uri": "https://localhost:8080/"
        },
        "id": "6IjKyOyL8uPh",
        "outputId": "3c23c5d6-585b-43fc-9bb8-c9c6abba046b"
      },
      "execution_count": null,
      "outputs": [
        {
          "output_type": "stream",
          "name": "stdout",
          "text": [
            "torch.Size([2, 10])\n"
          ]
        }
      ]
    },
    {
      "cell_type": "markdown",
      "source": [
        "### Step 6: Start Training"
      ],
      "metadata": {
        "id": "9yeMo6pfA3oJ"
      }
    },
    {
      "cell_type": "code",
      "source": [
        "# Change to the correct directory\n",
        "%cd /content/Cream/EfficientViT/classification/"
      ],
      "metadata": {
        "colab": {
          "base_uri": "https://localhost:8080/"
        },
        "id": "2MY3AY0oAk5P",
        "outputId": "affc5dee-5d12-4165-9dcc-9a44a3c52c5e"
      },
      "execution_count": null,
      "outputs": [
        {
          "output_type": "stream",
          "name": "stdout",
          "text": [
            "/content/Cream/EfficientViT/classification\n"
          ]
        }
      ]
    },
    {
      "cell_type": "code",
      "source": [
        "# Move model to GPU if available\n",
        "device = torch.device(\"cuda\" if torch.cuda.is_available() else \"cpu\")\n",
        "model = model.to(device)"
      ],
      "metadata": {
        "id": "LbWie4lDBC8p"
      },
      "execution_count": null,
      "outputs": []
    },
    {
      "cell_type": "markdown",
      "source": [],
      "metadata": {
        "id": "Ak8Trl7LBtEX"
      }
    },
    {
      "cell_type": "markdown",
      "source": [],
      "metadata": {
        "id": "EFL9dng1Bs_V"
      }
    },
    {
      "cell_type": "markdown",
      "source": [
        "####Create a training loop"
      ],
      "metadata": {
        "id": "0cO0DEXCBTq4"
      }
    },
    {
      "cell_type": "code",
      "source": [
        "import torch.optim as optim\n",
        "import torch.nn as nn\n",
        "from tqdm import tqdm\n",
        "\n",
        "criterion = nn.CrossEntropyLoss()\n",
        "optimizer = optim.AdamW(model.parameters(), lr=1e-3)\n",
        "scheduler = optim.lr_scheduler.CosineAnnealingLR(optimizer, T_max=100)\n",
        "\n",
        "def train(model, loader, optimizer, criterion, device):\n",
        "    model.train()\n",
        "    running_loss = 0.0\n",
        "    correct = 0\n",
        "    total = 0\n",
        "\n",
        "    for inputs, labels in tqdm(loader):\n",
        "        inputs, labels = inputs.to(device), labels.to(device)\n",
        "\n",
        "        optimizer.zero_grad()\n",
        "        outputs = model(inputs)\n",
        "        loss = criterion(outputs, labels)\n",
        "        loss.backward()\n",
        "        optimizer.step()\n",
        "\n",
        "        running_loss += loss.item()\n",
        "        _, predicted = outputs.max(1)\n",
        "        total += labels.size(0)\n",
        "        correct += predicted.eq(labels).sum().item()\n",
        "\n",
        "    train_loss = running_loss / len(loader)\n",
        "    train_acc = 100. * correct / total\n",
        "    return train_loss, train_acc\n",
        "\n",
        "def validate(model, loader, criterion, device):\n",
        "    model.eval()\n",
        "    running_loss = 0.0\n",
        "    correct = 0\n",
        "    total = 0\n",
        "\n",
        "    with torch.no_grad():\n",
        "        for inputs, labels in tqdm(loader):\n",
        "            inputs, labels = inputs.to(device), labels.to(device)\n",
        "            outputs = model(inputs)\n",
        "            loss = criterion(outputs, labels)\n",
        "\n",
        "            running_loss += loss.item()\n",
        "            _, predicted = outputs.max(1)\n",
        "            total += labels.size(0)\n",
        "            correct += predicted.eq(labels).sum().item()\n",
        "\n",
        "    val_loss = running_loss / len(loader)\n",
        "    val_acc = 100. * correct / total\n",
        "    return val_loss, val_acc"
      ],
      "metadata": {
        "id": "d-rHn7DI_uwD"
      },
      "execution_count": null,
      "outputs": []
    },
    {
      "cell_type": "markdown",
      "source": [
        "####Run the training"
      ],
      "metadata": {
        "id": "-KoD2lakBW2Q"
      }
    },
    {
      "cell_type": "code",
      "source": [
        "num_epochs = 50\n",
        "best_acc = 0\n",
        "\n",
        "for epoch in range(num_epochs):\n",
        "    print(f\"Epoch {epoch+1}/{num_epochs}\")\n",
        "\n",
        "    # Train\n",
        "    train_loss, train_acc = train(model, train_loader, optimizer, criterion, device)\n",
        "\n",
        "    # Validate\n",
        "    val_loss, val_acc = validate(model, val_loader, criterion, device)\n",
        "\n",
        "    # Update scheduler\n",
        "    scheduler.step()\n",
        "\n",
        "    print(f\"Train Loss: {train_loss:.4f} | Train Acc: {train_acc:.2f}%\")\n",
        "    print(f\"Val Loss: {val_loss:.4f} | Val Acc: {val_acc:.2f}%\")\n",
        "\n",
        "    # Save best model\n",
        "    if val_acc > best_acc:\n",
        "        best_acc = val_acc\n",
        "        torch.save(model.state_dict(), 'best_model.pth')\n",
        "        print(\"Saved best model!\")\n",
        "\n",
        "    print(\"-\" * 50)"
      ],
      "metadata": {
        "colab": {
          "base_uri": "https://localhost:8080/"
        },
        "id": "uQJkU-wZBbAI",
        "outputId": "f617b39a-bd8b-4af5-8f74-be1cb1cc751c"
      },
      "execution_count": null,
      "outputs": [
        {
          "output_type": "stream",
          "name": "stdout",
          "text": [
            "Epoch 1/50\n"
          ]
        },
        {
          "output_type": "stream",
          "name": "stderr",
          "text": [
            "100%|██████████| 391/391 [00:50<00:00,  7.75it/s]\n",
            "100%|██████████| 79/79 [00:04<00:00, 17.85it/s]\n"
          ]
        },
        {
          "output_type": "stream",
          "name": "stdout",
          "text": [
            "Train Loss: 1.6996 | Train Acc: 37.28%\n",
            "Val Loss: 1.4624 | Val Acc: 46.33%\n",
            "Saved best model!\n",
            "--------------------------------------------------\n",
            "Epoch 2/50\n"
          ]
        },
        {
          "output_type": "stream",
          "name": "stderr",
          "text": [
            "100%|██████████| 391/391 [00:45<00:00,  8.51it/s]\n",
            "100%|██████████| 79/79 [00:05<00:00, 14.67it/s]\n"
          ]
        },
        {
          "output_type": "stream",
          "name": "stdout",
          "text": [
            "Train Loss: 1.4531 | Train Acc: 46.92%\n",
            "Val Loss: 1.3487 | Val Acc: 50.93%\n",
            "Saved best model!\n",
            "--------------------------------------------------\n",
            "Epoch 3/50\n"
          ]
        },
        {
          "output_type": "stream",
          "name": "stderr",
          "text": [
            "100%|██████████| 391/391 [00:47<00:00,  8.17it/s]\n",
            "100%|██████████| 79/79 [00:04<00:00, 19.62it/s]\n"
          ]
        },
        {
          "output_type": "stream",
          "name": "stdout",
          "text": [
            "Train Loss: 1.3458 | Train Acc: 50.98%\n",
            "Val Loss: 1.2339 | Val Acc: 55.13%\n",
            "Saved best model!\n",
            "--------------------------------------------------\n",
            "Epoch 4/50\n"
          ]
        },
        {
          "output_type": "stream",
          "name": "stderr",
          "text": [
            "100%|██████████| 391/391 [00:44<00:00,  8.78it/s]\n",
            "100%|██████████| 79/79 [00:03<00:00, 20.60it/s]\n"
          ]
        },
        {
          "output_type": "stream",
          "name": "stdout",
          "text": [
            "Train Loss: 1.2894 | Train Acc: 53.06%\n",
            "Val Loss: 1.2092 | Val Acc: 56.95%\n",
            "Saved best model!\n",
            "--------------------------------------------------\n",
            "Epoch 5/50\n"
          ]
        },
        {
          "output_type": "stream",
          "name": "stderr",
          "text": [
            "100%|██████████| 391/391 [00:43<00:00,  8.94it/s]\n",
            "100%|██████████| 79/79 [00:04<00:00, 16.42it/s]\n"
          ]
        },
        {
          "output_type": "stream",
          "name": "stdout",
          "text": [
            "Train Loss: 1.2423 | Train Acc: 55.39%\n",
            "Val Loss: 1.1688 | Val Acc: 57.84%\n",
            "Saved best model!\n",
            "--------------------------------------------------\n",
            "Epoch 6/50\n"
          ]
        },
        {
          "output_type": "stream",
          "name": "stderr",
          "text": [
            "100%|██████████| 391/391 [00:43<00:00,  8.97it/s]\n",
            "100%|██████████| 79/79 [00:03<00:00, 21.00it/s]\n"
          ]
        },
        {
          "output_type": "stream",
          "name": "stdout",
          "text": [
            "Train Loss: 1.2039 | Train Acc: 56.84%\n",
            "Val Loss: 1.1743 | Val Acc: 58.37%\n",
            "Saved best model!\n",
            "--------------------------------------------------\n",
            "Epoch 7/50\n"
          ]
        },
        {
          "output_type": "stream",
          "name": "stderr",
          "text": [
            "100%|██████████| 391/391 [00:43<00:00,  8.95it/s]\n",
            "100%|██████████| 79/79 [00:05<00:00, 15.56it/s]\n"
          ]
        },
        {
          "output_type": "stream",
          "name": "stdout",
          "text": [
            "Train Loss: 1.1723 | Train Acc: 57.85%\n",
            "Val Loss: 1.1007 | Val Acc: 61.14%\n",
            "Saved best model!\n",
            "--------------------------------------------------\n",
            "Epoch 8/50\n"
          ]
        },
        {
          "output_type": "stream",
          "name": "stderr",
          "text": [
            "100%|██████████| 391/391 [00:43<00:00,  9.04it/s]\n",
            "100%|██████████| 79/79 [00:03<00:00, 20.78it/s]\n"
          ]
        },
        {
          "output_type": "stream",
          "name": "stdout",
          "text": [
            "Train Loss: 1.1458 | Train Acc: 58.95%\n",
            "Val Loss: 1.0728 | Val Acc: 62.00%\n",
            "Saved best model!\n",
            "--------------------------------------------------\n",
            "Epoch 9/50\n"
          ]
        },
        {
          "output_type": "stream",
          "name": "stderr",
          "text": [
            "100%|██████████| 391/391 [00:43<00:00,  9.02it/s]\n",
            "100%|██████████| 79/79 [00:05<00:00, 15.71it/s]\n"
          ]
        },
        {
          "output_type": "stream",
          "name": "stdout",
          "text": [
            "Train Loss: 1.1165 | Train Acc: 59.95%\n",
            "Val Loss: 1.0512 | Val Acc: 62.71%\n",
            "Saved best model!\n",
            "--------------------------------------------------\n",
            "Epoch 10/50\n"
          ]
        },
        {
          "output_type": "stream",
          "name": "stderr",
          "text": [
            "100%|██████████| 391/391 [00:43<00:00,  8.99it/s]\n",
            "100%|██████████| 79/79 [00:03<00:00, 20.93it/s]\n"
          ]
        },
        {
          "output_type": "stream",
          "name": "stdout",
          "text": [
            "Train Loss: 1.0916 | Train Acc: 60.85%\n",
            "Val Loss: 1.0567 | Val Acc: 62.52%\n",
            "--------------------------------------------------\n",
            "Epoch 11/50\n"
          ]
        },
        {
          "output_type": "stream",
          "name": "stderr",
          "text": [
            "100%|██████████| 391/391 [00:42<00:00,  9.15it/s]\n",
            "100%|██████████| 79/79 [00:04<00:00, 15.93it/s]\n"
          ]
        },
        {
          "output_type": "stream",
          "name": "stdout",
          "text": [
            "Train Loss: 1.0780 | Train Acc: 61.63%\n",
            "Val Loss: 1.0234 | Val Acc: 64.01%\n",
            "Saved best model!\n",
            "--------------------------------------------------\n",
            "Epoch 12/50\n"
          ]
        },
        {
          "output_type": "stream",
          "name": "stderr",
          "text": [
            "100%|██████████| 391/391 [00:42<00:00,  9.11it/s]\n",
            "100%|██████████| 79/79 [00:03<00:00, 20.66it/s]\n"
          ]
        },
        {
          "output_type": "stream",
          "name": "stdout",
          "text": [
            "Train Loss: 1.0572 | Train Acc: 62.12%\n",
            "Val Loss: 1.0250 | Val Acc: 63.93%\n",
            "--------------------------------------------------\n",
            "Epoch 13/50\n"
          ]
        },
        {
          "output_type": "stream",
          "name": "stderr",
          "text": [
            "100%|██████████| 391/391 [00:43<00:00,  9.08it/s]\n",
            "100%|██████████| 79/79 [00:04<00:00, 16.10it/s]\n"
          ]
        },
        {
          "output_type": "stream",
          "name": "stdout",
          "text": [
            "Train Loss: 1.0454 | Train Acc: 62.69%\n",
            "Val Loss: 0.9854 | Val Acc: 65.34%\n",
            "Saved best model!\n",
            "--------------------------------------------------\n",
            "Epoch 14/50\n"
          ]
        },
        {
          "output_type": "stream",
          "name": "stderr",
          "text": [
            "100%|██████████| 391/391 [00:43<00:00,  9.03it/s]\n",
            "100%|██████████| 79/79 [00:03<00:00, 21.23it/s]\n"
          ]
        },
        {
          "output_type": "stream",
          "name": "stdout",
          "text": [
            "Train Loss: 1.0229 | Train Acc: 63.65%\n",
            "Val Loss: 1.0034 | Val Acc: 64.72%\n",
            "--------------------------------------------------\n",
            "Epoch 15/50\n"
          ]
        },
        {
          "output_type": "stream",
          "name": "stderr",
          "text": [
            "100%|██████████| 391/391 [00:43<00:00,  9.03it/s]\n",
            "100%|██████████| 79/79 [00:05<00:00, 15.54it/s]\n"
          ]
        },
        {
          "output_type": "stream",
          "name": "stdout",
          "text": [
            "Train Loss: 1.0072 | Train Acc: 64.01%\n",
            "Val Loss: 0.9551 | Val Acc: 66.52%\n",
            "Saved best model!\n",
            "--------------------------------------------------\n",
            "Epoch 16/50\n"
          ]
        },
        {
          "output_type": "stream",
          "name": "stderr",
          "text": [
            "100%|██████████| 391/391 [00:42<00:00,  9.12it/s]\n",
            "100%|██████████| 79/79 [00:03<00:00, 21.46it/s]\n"
          ]
        },
        {
          "output_type": "stream",
          "name": "stdout",
          "text": [
            "Train Loss: 0.9930 | Train Acc: 64.53%\n",
            "Val Loss: 0.9408 | Val Acc: 66.94%\n",
            "Saved best model!\n",
            "--------------------------------------------------\n",
            "Epoch 17/50\n"
          ]
        },
        {
          "output_type": "stream",
          "name": "stderr",
          "text": [
            "100%|██████████| 391/391 [00:44<00:00,  8.82it/s]\n",
            "100%|██████████| 79/79 [00:04<00:00, 15.94it/s]\n"
          ]
        },
        {
          "output_type": "stream",
          "name": "stdout",
          "text": [
            "Train Loss: 0.9789 | Train Acc: 65.04%\n",
            "Val Loss: 0.9713 | Val Acc: 66.13%\n",
            "--------------------------------------------------\n",
            "Epoch 18/50\n"
          ]
        },
        {
          "output_type": "stream",
          "name": "stderr",
          "text": [
            "100%|██████████| 391/391 [00:44<00:00,  8.76it/s]\n",
            "100%|██████████| 79/79 [00:03<00:00, 20.58it/s]\n"
          ]
        },
        {
          "output_type": "stream",
          "name": "stdout",
          "text": [
            "Train Loss: 0.9610 | Train Acc: 65.90%\n",
            "Val Loss: 0.9069 | Val Acc: 67.61%\n",
            "Saved best model!\n",
            "--------------------------------------------------\n",
            "Epoch 19/50\n"
          ]
        },
        {
          "output_type": "stream",
          "name": "stderr",
          "text": [
            "100%|██████████| 391/391 [00:45<00:00,  8.62it/s]\n",
            "100%|██████████| 79/79 [00:03<00:00, 20.75it/s]\n"
          ]
        },
        {
          "output_type": "stream",
          "name": "stdout",
          "text": [
            "Train Loss: 0.9510 | Train Acc: 66.04%\n",
            "Val Loss: 0.9274 | Val Acc: 67.68%\n",
            "Saved best model!\n",
            "--------------------------------------------------\n",
            "Epoch 20/50\n"
          ]
        },
        {
          "output_type": "stream",
          "name": "stderr",
          "text": [
            "100%|██████████| 391/391 [00:44<00:00,  8.73it/s]\n",
            "100%|██████████| 79/79 [00:04<00:00, 16.57it/s]\n"
          ]
        },
        {
          "output_type": "stream",
          "name": "stdout",
          "text": [
            "Train Loss: 0.9398 | Train Acc: 66.63%\n",
            "Val Loss: 0.9163 | Val Acc: 68.32%\n",
            "Saved best model!\n",
            "--------------------------------------------------\n",
            "Epoch 21/50\n"
          ]
        },
        {
          "output_type": "stream",
          "name": "stderr",
          "text": [
            "100%|██████████| 391/391 [00:44<00:00,  8.84it/s]\n",
            "100%|██████████| 79/79 [00:03<00:00, 20.90it/s]\n"
          ]
        },
        {
          "output_type": "stream",
          "name": "stdout",
          "text": [
            "Train Loss: 0.9244 | Train Acc: 67.25%\n",
            "Val Loss: 0.9358 | Val Acc: 67.23%\n",
            "--------------------------------------------------\n",
            "Epoch 22/50\n"
          ]
        },
        {
          "output_type": "stream",
          "name": "stderr",
          "text": [
            "100%|██████████| 391/391 [00:45<00:00,  8.60it/s]\n",
            "100%|██████████| 79/79 [00:04<00:00, 17.24it/s]\n"
          ]
        },
        {
          "output_type": "stream",
          "name": "stdout",
          "text": [
            "Train Loss: 0.9184 | Train Acc: 67.42%\n",
            "Val Loss: 0.8861 | Val Acc: 69.35%\n",
            "Saved best model!\n",
            "--------------------------------------------------\n",
            "Epoch 23/50\n"
          ]
        },
        {
          "output_type": "stream",
          "name": "stderr",
          "text": [
            "100%|██████████| 391/391 [00:43<00:00,  8.95it/s]\n",
            "100%|██████████| 79/79 [00:03<00:00, 20.98it/s]\n"
          ]
        },
        {
          "output_type": "stream",
          "name": "stdout",
          "text": [
            "Train Loss: 0.9107 | Train Acc: 67.66%\n",
            "Val Loss: 0.8936 | Val Acc: 68.64%\n",
            "--------------------------------------------------\n",
            "Epoch 24/50\n"
          ]
        },
        {
          "output_type": "stream",
          "name": "stderr",
          "text": [
            "100%|██████████| 391/391 [00:44<00:00,  8.84it/s]\n",
            "100%|██████████| 79/79 [00:04<00:00, 18.71it/s]\n"
          ]
        },
        {
          "output_type": "stream",
          "name": "stdout",
          "text": [
            "Train Loss: 0.8961 | Train Acc: 68.19%\n",
            "Val Loss: 0.8938 | Val Acc: 68.53%\n",
            "--------------------------------------------------\n",
            "Epoch 25/50\n"
          ]
        },
        {
          "output_type": "stream",
          "name": "stderr",
          "text": [
            "100%|██████████| 391/391 [00:44<00:00,  8.80it/s]\n",
            "100%|██████████| 79/79 [00:04<00:00, 19.72it/s]\n"
          ]
        },
        {
          "output_type": "stream",
          "name": "stdout",
          "text": [
            "Train Loss: 0.8896 | Train Acc: 68.38%\n",
            "Val Loss: 0.8672 | Val Acc: 69.92%\n",
            "Saved best model!\n",
            "--------------------------------------------------\n",
            "Epoch 26/50\n"
          ]
        },
        {
          "output_type": "stream",
          "name": "stderr",
          "text": [
            "100%|██████████| 391/391 [00:44<00:00,  8.70it/s]\n",
            "100%|██████████| 79/79 [00:03<00:00, 21.08it/s]\n"
          ]
        },
        {
          "output_type": "stream",
          "name": "stdout",
          "text": [
            "Train Loss: 0.8743 | Train Acc: 68.66%\n",
            "Val Loss: 0.8743 | Val Acc: 69.44%\n",
            "--------------------------------------------------\n",
            "Epoch 27/50\n"
          ]
        },
        {
          "output_type": "stream",
          "name": "stderr",
          "text": [
            "100%|██████████| 391/391 [00:43<00:00,  8.96it/s]\n",
            "100%|██████████| 79/79 [00:04<00:00, 16.52it/s]\n"
          ]
        },
        {
          "output_type": "stream",
          "name": "stdout",
          "text": [
            "Train Loss: 0.8702 | Train Acc: 69.01%\n",
            "Val Loss: 0.8552 | Val Acc: 70.12%\n",
            "Saved best model!\n",
            "--------------------------------------------------\n",
            "Epoch 28/50\n"
          ]
        },
        {
          "output_type": "stream",
          "name": "stderr",
          "text": [
            "100%|██████████| 391/391 [00:43<00:00,  9.00it/s]\n",
            "100%|██████████| 79/79 [00:03<00:00, 21.21it/s]\n"
          ]
        },
        {
          "output_type": "stream",
          "name": "stdout",
          "text": [
            "Train Loss: 0.8516 | Train Acc: 69.75%\n",
            "Val Loss: 0.8484 | Val Acc: 70.41%\n",
            "Saved best model!\n",
            "--------------------------------------------------\n",
            "Epoch 29/50\n"
          ]
        },
        {
          "output_type": "stream",
          "name": "stderr",
          "text": [
            "100%|██████████| 391/391 [00:42<00:00,  9.10it/s]\n",
            "100%|██████████| 79/79 [00:04<00:00, 16.03it/s]\n"
          ]
        },
        {
          "output_type": "stream",
          "name": "stdout",
          "text": [
            "Train Loss: 0.8446 | Train Acc: 69.83%\n",
            "Val Loss: 0.8622 | Val Acc: 70.24%\n",
            "--------------------------------------------------\n",
            "Epoch 30/50\n"
          ]
        },
        {
          "output_type": "stream",
          "name": "stderr",
          "text": [
            "100%|██████████| 391/391 [00:43<00:00,  8.99it/s]\n",
            "100%|██████████| 79/79 [00:03<00:00, 20.90it/s]\n"
          ]
        },
        {
          "output_type": "stream",
          "name": "stdout",
          "text": [
            "Train Loss: 0.8318 | Train Acc: 70.38%\n",
            "Val Loss: 0.8489 | Val Acc: 70.51%\n",
            "Saved best model!\n",
            "--------------------------------------------------\n",
            "Epoch 31/50\n"
          ]
        },
        {
          "output_type": "stream",
          "name": "stderr",
          "text": [
            "100%|██████████| 391/391 [00:42<00:00,  9.10it/s]\n",
            "100%|██████████| 79/79 [00:04<00:00, 15.97it/s]\n"
          ]
        },
        {
          "output_type": "stream",
          "name": "stdout",
          "text": [
            "Train Loss: 0.8255 | Train Acc: 70.62%\n",
            "Val Loss: 0.8314 | Val Acc: 71.59%\n",
            "Saved best model!\n",
            "--------------------------------------------------\n",
            "Epoch 32/50\n"
          ]
        },
        {
          "output_type": "stream",
          "name": "stderr",
          "text": [
            "100%|██████████| 391/391 [00:42<00:00,  9.11it/s]\n",
            "100%|██████████| 79/79 [00:03<00:00, 21.29it/s]\n"
          ]
        },
        {
          "output_type": "stream",
          "name": "stdout",
          "text": [
            "Train Loss: 0.8223 | Train Acc: 70.81%\n",
            "Val Loss: 0.8434 | Val Acc: 70.36%\n",
            "--------------------------------------------------\n",
            "Epoch 33/50\n"
          ]
        },
        {
          "output_type": "stream",
          "name": "stderr",
          "text": [
            "100%|██████████| 391/391 [00:42<00:00,  9.10it/s]\n",
            "100%|██████████| 79/79 [00:05<00:00, 15.68it/s]\n"
          ]
        },
        {
          "output_type": "stream",
          "name": "stdout",
          "text": [
            "Train Loss: 0.8206 | Train Acc: 70.83%\n",
            "Val Loss: 0.8110 | Val Acc: 71.86%\n",
            "Saved best model!\n",
            "--------------------------------------------------\n",
            "Epoch 34/50\n"
          ]
        },
        {
          "output_type": "stream",
          "name": "stderr",
          "text": [
            "100%|██████████| 391/391 [00:43<00:00,  8.95it/s]\n",
            "100%|██████████| 79/79 [00:03<00:00, 20.90it/s]\n"
          ]
        },
        {
          "output_type": "stream",
          "name": "stdout",
          "text": [
            "Train Loss: 0.8055 | Train Acc: 71.43%\n",
            "Val Loss: 0.8239 | Val Acc: 71.23%\n",
            "--------------------------------------------------\n",
            "Epoch 35/50\n"
          ]
        },
        {
          "output_type": "stream",
          "name": "stderr",
          "text": [
            "100%|██████████| 391/391 [00:43<00:00,  9.02it/s]\n",
            "100%|██████████| 79/79 [00:05<00:00, 15.46it/s]\n"
          ]
        },
        {
          "output_type": "stream",
          "name": "stdout",
          "text": [
            "Train Loss: 0.7951 | Train Acc: 71.50%\n",
            "Val Loss: 0.8207 | Val Acc: 71.45%\n",
            "--------------------------------------------------\n",
            "Epoch 36/50\n"
          ]
        },
        {
          "output_type": "stream",
          "name": "stderr",
          "text": [
            "100%|██████████| 391/391 [00:43<00:00,  8.98it/s]\n",
            "100%|██████████| 79/79 [00:03<00:00, 21.35it/s]\n"
          ]
        },
        {
          "output_type": "stream",
          "name": "stdout",
          "text": [
            "Train Loss: 0.7925 | Train Acc: 71.78%\n",
            "Val Loss: 0.8083 | Val Acc: 71.56%\n",
            "--------------------------------------------------\n",
            "Epoch 37/50\n"
          ]
        },
        {
          "output_type": "stream",
          "name": "stderr",
          "text": [
            "100%|██████████| 391/391 [00:43<00:00,  9.07it/s]\n",
            "100%|██████████| 79/79 [00:04<00:00, 16.48it/s]\n"
          ]
        },
        {
          "output_type": "stream",
          "name": "stdout",
          "text": [
            "Train Loss: 0.7807 | Train Acc: 72.33%\n",
            "Val Loss: 0.8162 | Val Acc: 71.30%\n",
            "--------------------------------------------------\n",
            "Epoch 38/50\n"
          ]
        },
        {
          "output_type": "stream",
          "name": "stderr",
          "text": [
            "100%|██████████| 391/391 [00:44<00:00,  8.85it/s]\n",
            "100%|██████████| 79/79 [00:04<00:00, 18.39it/s]\n"
          ]
        },
        {
          "output_type": "stream",
          "name": "stdout",
          "text": [
            "Train Loss: 0.7802 | Train Acc: 72.19%\n",
            "Val Loss: 0.7979 | Val Acc: 72.36%\n",
            "Saved best model!\n",
            "--------------------------------------------------\n",
            "Epoch 39/50\n"
          ]
        },
        {
          "output_type": "stream",
          "name": "stderr",
          "text": [
            "100%|██████████| 391/391 [00:45<00:00,  8.58it/s]\n",
            "100%|██████████| 79/79 [00:03<00:00, 21.06it/s]\n"
          ]
        },
        {
          "output_type": "stream",
          "name": "stdout",
          "text": [
            "Train Loss: 0.7668 | Train Acc: 72.65%\n",
            "Val Loss: 0.8018 | Val Acc: 72.07%\n",
            "--------------------------------------------------\n",
            "Epoch 40/50\n"
          ]
        },
        {
          "output_type": "stream",
          "name": "stderr",
          "text": [
            "100%|██████████| 391/391 [00:49<00:00,  7.91it/s]\n",
            "100%|██████████| 79/79 [00:04<00:00, 19.27it/s]\n"
          ]
        },
        {
          "output_type": "stream",
          "name": "stdout",
          "text": [
            "Train Loss: 0.7630 | Train Acc: 72.96%\n",
            "Val Loss: 0.8000 | Val Acc: 72.05%\n",
            "--------------------------------------------------\n",
            "Epoch 41/50\n"
          ]
        },
        {
          "output_type": "stream",
          "name": "stderr",
          "text": [
            "100%|██████████| 391/391 [00:44<00:00,  8.80it/s]\n",
            "100%|██████████| 79/79 [00:04<00:00, 16.70it/s]\n"
          ]
        },
        {
          "output_type": "stream",
          "name": "stdout",
          "text": [
            "Train Loss: 0.7502 | Train Acc: 73.20%\n",
            "Val Loss: 0.7907 | Val Acc: 72.75%\n",
            "Saved best model!\n",
            "--------------------------------------------------\n",
            "Epoch 42/50\n"
          ]
        },
        {
          "output_type": "stream",
          "name": "stderr",
          "text": [
            "100%|██████████| 391/391 [00:45<00:00,  8.57it/s]\n",
            "100%|██████████| 79/79 [00:03<00:00, 20.93it/s]\n"
          ]
        },
        {
          "output_type": "stream",
          "name": "stdout",
          "text": [
            "Train Loss: 0.7431 | Train Acc: 73.27%\n",
            "Val Loss: 0.7915 | Val Acc: 72.25%\n",
            "--------------------------------------------------\n",
            "Epoch 43/50\n"
          ]
        },
        {
          "output_type": "stream",
          "name": "stderr",
          "text": [
            "100%|██████████| 391/391 [00:43<00:00,  9.02it/s]\n",
            "100%|██████████| 79/79 [00:05<00:00, 14.16it/s]\n"
          ]
        },
        {
          "output_type": "stream",
          "name": "stdout",
          "text": [
            "Train Loss: 0.7403 | Train Acc: 73.73%\n",
            "Val Loss: 0.7862 | Val Acc: 72.53%\n",
            "--------------------------------------------------\n",
            "Epoch 44/50\n"
          ]
        },
        {
          "output_type": "stream",
          "name": "stderr",
          "text": [
            "100%|██████████| 391/391 [00:42<00:00,  9.10it/s]\n",
            "100%|██████████| 79/79 [00:03<00:00, 21.20it/s]\n"
          ]
        },
        {
          "output_type": "stream",
          "name": "stdout",
          "text": [
            "Train Loss: 0.7380 | Train Acc: 73.45%\n",
            "Val Loss: 0.7897 | Val Acc: 72.79%\n",
            "Saved best model!\n",
            "--------------------------------------------------\n",
            "Epoch 45/50\n"
          ]
        },
        {
          "output_type": "stream",
          "name": "stderr",
          "text": [
            "100%|██████████| 391/391 [00:43<00:00,  9.09it/s]\n",
            "100%|██████████| 79/79 [00:05<00:00, 15.68it/s]\n"
          ]
        },
        {
          "output_type": "stream",
          "name": "stdout",
          "text": [
            "Train Loss: 0.7275 | Train Acc: 73.98%\n",
            "Val Loss: 0.7851 | Val Acc: 73.23%\n",
            "Saved best model!\n",
            "--------------------------------------------------\n",
            "Epoch 46/50\n"
          ]
        },
        {
          "output_type": "stream",
          "name": "stderr",
          "text": [
            "100%|██████████| 391/391 [00:43<00:00,  9.08it/s]\n",
            "100%|██████████| 79/79 [00:03<00:00, 21.21it/s]\n"
          ]
        },
        {
          "output_type": "stream",
          "name": "stdout",
          "text": [
            "Train Loss: 0.7211 | Train Acc: 74.58%\n",
            "Val Loss: 0.7739 | Val Acc: 73.27%\n",
            "Saved best model!\n",
            "--------------------------------------------------\n",
            "Epoch 47/50\n"
          ]
        },
        {
          "output_type": "stream",
          "name": "stderr",
          "text": [
            "100%|██████████| 391/391 [00:43<00:00,  8.95it/s]\n",
            "100%|██████████| 79/79 [00:04<00:00, 15.98it/s]\n"
          ]
        },
        {
          "output_type": "stream",
          "name": "stdout",
          "text": [
            "Train Loss: 0.7203 | Train Acc: 74.26%\n",
            "Val Loss: 0.7784 | Val Acc: 72.88%\n",
            "--------------------------------------------------\n",
            "Epoch 48/50\n"
          ]
        },
        {
          "output_type": "stream",
          "name": "stderr",
          "text": [
            "100%|██████████| 391/391 [00:42<00:00,  9.18it/s]\n",
            "100%|██████████| 79/79 [00:03<00:00, 21.12it/s]\n"
          ]
        },
        {
          "output_type": "stream",
          "name": "stdout",
          "text": [
            "Train Loss: 0.7076 | Train Acc: 74.93%\n",
            "Val Loss: 0.7804 | Val Acc: 72.89%\n",
            "--------------------------------------------------\n",
            "Epoch 49/50\n"
          ]
        },
        {
          "output_type": "stream",
          "name": "stderr",
          "text": [
            "100%|██████████| 391/391 [00:44<00:00,  8.74it/s]\n",
            "100%|██████████| 79/79 [00:04<00:00, 17.19it/s]\n"
          ]
        },
        {
          "output_type": "stream",
          "name": "stdout",
          "text": [
            "Train Loss: 0.7032 | Train Acc: 74.73%\n",
            "Val Loss: 0.7818 | Val Acc: 72.59%\n",
            "--------------------------------------------------\n",
            "Epoch 50/50\n"
          ]
        },
        {
          "output_type": "stream",
          "name": "stderr",
          "text": [
            "100%|██████████| 391/391 [00:44<00:00,  8.76it/s]\n",
            "100%|██████████| 79/79 [00:03<00:00, 21.03it/s]"
          ]
        },
        {
          "output_type": "stream",
          "name": "stdout",
          "text": [
            "Train Loss: 0.6969 | Train Acc: 75.13%\n",
            "Val Loss: 0.7743 | Val Acc: 73.12%\n",
            "--------------------------------------------------\n"
          ]
        },
        {
          "output_type": "stream",
          "name": "stderr",
          "text": [
            "\n"
          ]
        }
      ]
    },
    {
      "cell_type": "markdown",
      "source": [
        "### Step 7: Evaluate the Model"
      ],
      "metadata": {
        "id": "tHVBNiOwBHDn"
      }
    },
    {
      "cell_type": "code",
      "source": [
        "# Load best model\n",
        "model.load_state_dict(torch.load('best_model.pth'))\n",
        "\n",
        "# Final evaluation\n",
        "val_loss, val_acc = validate(model, val_loader, criterion, device)\n",
        "print(f\"Final Validation Accuracy: {val_acc:.2f}%\")"
      ],
      "metadata": {
        "colab": {
          "base_uri": "https://localhost:8080/"
        },
        "id": "bW9qSBQjCo4a",
        "outputId": "6234b10a-a03d-4861-c0cc-41738089d585"
      },
      "execution_count": null,
      "outputs": [
        {
          "output_type": "stream",
          "name": "stderr",
          "text": [
            "100%|██████████| 313/313 [00:09<00:00, 32.34it/s]"
          ]
        },
        {
          "output_type": "stream",
          "name": "stdout",
          "text": [
            "Final Validation Accuracy: 73.27%\n"
          ]
        },
        {
          "output_type": "stream",
          "name": "stderr",
          "text": [
            "\n"
          ]
        }
      ]
    },
    {
      "cell_type": "markdown",
      "source": [],
      "metadata": {
        "id": "NgngTKzvCoCx"
      }
    },
    {
      "cell_type": "markdown",
      "source": [
        "###Step 8: Visualization"
      ],
      "metadata": {
        "id": "1u9Q9QmiJOrB"
      }
    },
    {
      "cell_type": "code",
      "source": [
        "import torch\n",
        "import cv2\n",
        "import numpy as np\n",
        "import matplotlib.pyplot as plt\n",
        "\n",
        "class EfficientViTCAM:\n",
        "    def __init__(self, model):\n",
        "        self.model = model\n",
        "        self.features = None\n",
        "        self.gradients = None\n",
        "        self.model.eval()\n",
        "\n",
        "        # Find the last convolutional layer\n",
        "        def find_target_layer(module):\n",
        "            target_layer = None\n",
        "            for name, layer in reversed(list(module.named_modules())):\n",
        "                if isinstance(layer, torch.nn.Conv2d):\n",
        "                    target_layer = layer\n",
        "                    print(f\"✅ Found target layer: {name}\")\n",
        "                    break\n",
        "            return target_layer\n",
        "\n",
        "        self.target_layer = find_target_layer(self.model)\n",
        "\n",
        "        if self.target_layer is None:\n",
        "            raise ValueError(\"❌ No convolutional layer found for Grad-CAM\")\n",
        "\n",
        "        # Register hooks\n",
        "        self.target_layer.register_forward_hook(self.save_features)\n",
        "        self.target_layer.register_full_backward_hook(self.save_gradients)\n",
        "        print(\"✅ Hooks registered successfully\")\n",
        "\n",
        "    def save_features(self, module, input, output):\n",
        "        self.features = output.detach()\n",
        "        print(f\"✅ Features saved - shape: {self.features.shape}\")\n",
        "\n",
        "    def save_gradients(self, module, grad_input, grad_output):\n",
        "        self.gradients = grad_output[0].detach()\n",
        "        print(f\"✅ Gradients saved - shape: {self.gradients.shape}\")\n",
        "\n",
        "    def generate_cam(self, input_image, target_class=None):\n",
        "        print(\"\\n=== Generating CAM ===\")\n",
        "        print(f\"Input image shape: {input_image.shape}\")\n",
        "\n",
        "        # Forward pass\n",
        "        output = self.model(input_image.unsqueeze(0))\n",
        "        print(f\"Model output shape: {output.shape}\")\n",
        "\n",
        "        if target_class is None:\n",
        "            target_class = output.argmax(dim=1).item()\n",
        "        print(f\"Target class: {target_class}\")\n",
        "\n",
        "        # Backward pass\n",
        "        self.model.zero_grad()\n",
        "        one_hot = torch.zeros_like(output)\n",
        "        one_hot[0][target_class] = 1\n",
        "        output.backward(gradient=one_hot)\n",
        "        print(\"✅ Backward pass completed\")\n",
        "\n",
        "        # Process gradients and activations\n",
        "        pooled_gradients = torch.mean(self.gradients, dim=[0, 2, 3], keepdim=True)\n",
        "        activations = self.features\n",
        "        print(f\"Pooled gradients shape: {pooled_gradients.shape}\")\n",
        "        print(f\"Activations shape: {activations.shape}\")\n",
        "\n",
        "        # Weight activations by gradients\n",
        "        weighted_activations = activations * pooled_gradients\n",
        "        print(f\"Weighted activations shape: {weighted_activations.shape}\")\n",
        "\n",
        "        # Generate heatmap\n",
        "        heatmap = torch.mean(weighted_activations, dim=1).squeeze()\n",
        "        print(f\"Heatmap before processing shape: {heatmap.shape}\")\n",
        "\n",
        "        # Convert to numpy and process\n",
        "        heatmap = heatmap.cpu().numpy()\n",
        "        print(f\"Heatmap numpy shape: {heatmap.shape}\")\n",
        "\n",
        "        heatmap = np.maximum(heatmap, 0)\n",
        "        print(f\"Heatmap after max(0): {heatmap.shape}\")\n",
        "\n",
        "        # Resize to input image dimensions\n",
        "        heatmap = cv2.resize(heatmap, (input_image.shape[2], input_image.shape[1]))\n",
        "        print(f\"Heatmap after resize: {heatmap.shape}\")\n",
        "\n",
        "        # Normalize\n",
        "        heatmap = (heatmap - np.min(heatmap)) / (np.max(heatmap) - np.min(heatmap) + 1e-8)\n",
        "        print(\"✅ Heatmap generated successfully\")\n",
        "\n",
        "        return heatmap\n",
        "\n",
        "def visualize_heatmap(image, heatmap, true_class, pred_class, alpha=0.5):\n",
        "    print(\"\\n=== Visualizing ===\")\n",
        "    # Convert tensor image to numpy\n",
        "    img = image.cpu().numpy().transpose(1, 2, 0)\n",
        "    mean = np.array([0.4914, 0.4822, 0.4465])\n",
        "    std = np.array([0.2470, 0.2435, 0.2616])\n",
        "    img = std * img + mean  # Un-normalize\n",
        "    img = np.clip(img, 0, 1)\n",
        "    print(f\"Image numpy shape: {img.shape}\")\n",
        "\n",
        "    # Create heatmap\n",
        "    print(f\"Heatmap input shape: {heatmap.shape}\")\n",
        "    heatmap = np.uint8(255 * heatmap)\n",
        "    heatmap = cv2.applyColorMap(heatmap, cv2.COLORMAP_JET)\n",
        "    print(f\"Heatmap after color mapping: {heatmap.shape}\")\n",
        "\n",
        "    # Superimpose heatmap on image\n",
        "    superimposed_img = cv2.addWeighted(np.uint8(255 * img), alpha, heatmap, 1-alpha, 0)\n",
        "    print(f\"Final output shape: {superimposed_img.shape}\")\n",
        "\n",
        "    # Display\n",
        "    plt.figure(figsize=(12, 5))\n",
        "\n",
        "    plt.subplot(1, 2, 1)\n",
        "    plt.imshow(img)\n",
        "    plt.title(f\"True: {true_class}\")\n",
        "    plt.axis('off')\n",
        "\n",
        "    plt.subplot(1, 2, 2)\n",
        "    plt.imshow(superimposed_img)\n",
        "    plt.title(f\"Predicted: {pred_class}\")\n",
        "    plt.axis('off')\n",
        "\n",
        "    plt.tight_layout()\n",
        "    print(\"✅ Showing visualization...\")\n",
        "    plt.show()\n",
        "\n",
        "def generate_and_visualize_heatmaps(model, data_loader, num_examples=5):\n",
        "    print(\"===== Starting Grad-CAM Visualization =====\")\n",
        "    try:\n",
        "        cam_generator = EfficientViTCAM(model)\n",
        "    except ValueError as e:\n",
        "        print(f\"❌ Error initializing Grad-CAM: {e}\")\n",
        "        return\n",
        "\n",
        "    classes = ['airplane', 'automobile', 'bird', 'cat', 'deer',\n",
        "              'dog', 'frog', 'horse', 'ship', 'truck']\n",
        "\n",
        "    # Get some samples\n",
        "    data_iter = iter(data_loader)\n",
        "    sample_images, sample_labels = next(data_iter)\n",
        "    sample_images, sample_labels = sample_images.to(device), sample_labels.to(device)\n",
        "    print(f\"Loaded {len(sample_images)} examples\")\n",
        "\n",
        "    for i in range(min(num_examples, len(sample_images))):\n",
        "        print(f\"\\n==== Processing example {i+1}/{min(num_examples, len(sample_images))} ====\")\n",
        "        image = sample_images[i]\n",
        "        label = sample_labels[i].item()\n",
        "\n",
        "        # Get prediction\n",
        "        with torch.no_grad():\n",
        "            output = model(image.unsqueeze(0))\n",
        "            pred_class = output.argmax(dim=1).item()\n",
        "        print(f\"True class: {classes[label]}, Predicted: {classes[pred_class]}\")\n",
        "\n",
        "        # Generate heatmap\n",
        "        try:\n",
        "            heatmap = cam_generator.generate_cam(image, pred_class)\n",
        "            # Visualize\n",
        "            visualize_heatmap(image, heatmap, classes[label], classes[pred_class])\n",
        "        except Exception as e:\n",
        "            print(f\"❌ Error generating heatmap for example {i}: {e}\")\n",
        "\n",
        "# Run the visualization\n",
        "print(\"===== Starting Visualization Process =====\")\n",
        "generate_and_visualize_heatmaps(model, val_loader, num_examples=5)\n",
        "print(\"===== Visualization Complete =====\")"
      ],
      "metadata": {
        "colab": {
          "base_uri": "https://localhost:8080/"
        },
        "id": "dLcHSy3GNorl",
        "outputId": "a0723a07-e128-4209-9cb9-a2d8d743bd6e"
      },
      "execution_count": null,
      "outputs": [
        {
          "output_type": "stream",
          "name": "stdout",
          "text": [
            "===== Starting Visualization Process =====\n",
            "===== Starting Grad-CAM Visualization =====\n",
            "✅ Found target layer: blocks3.5.ffn1.m.pw2.c\n",
            "✅ Hooks registered successfully\n",
            "Loaded 32 examples\n",
            "\n",
            "==== Processing example 1/5 ====\n",
            "✅ Features saved - shape: torch.Size([1, 192, 1, 1])\n",
            "✅ Features saved - shape: torch.Size([1, 192, 1, 1])\n",
            "True class: cat, Predicted: cat\n",
            "\n",
            "=== Generating CAM ===\n",
            "Input image shape: torch.Size([3, 32, 32])\n",
            "✅ Features saved - shape: torch.Size([1, 192, 1, 1])\n",
            "✅ Features saved - shape: torch.Size([1, 192, 1, 1])\n",
            "Model output shape: torch.Size([1, 10])\n",
            "Target class: 3\n",
            "✅ Gradients saved - shape: torch.Size([1, 192, 1, 1])\n",
            "✅ Gradients saved - shape: torch.Size([1, 192, 1, 1])\n",
            "✅ Backward pass completed\n",
            "Pooled gradients shape: torch.Size([1, 192, 1, 1])\n",
            "Activations shape: torch.Size([1, 192, 1, 1])\n",
            "Weighted activations shape: torch.Size([1, 192, 1, 1])\n",
            "Heatmap before processing shape: torch.Size([])\n",
            "Heatmap numpy shape: ()\n",
            "Heatmap after max(0): ()\n",
            "❌ Error generating heatmap for example 0: OpenCV(4.11.0) :-1: error: (-5:Bad argument) in function 'resize'\n",
            "> Overload resolution failed:\n",
            ">  - src is not a numpy array, neither a scalar\n",
            ">  - Expected Ptr<cv::UMat> for argument 'src'\n",
            "\n",
            "\n",
            "==== Processing example 2/5 ====\n",
            "✅ Features saved - shape: torch.Size([1, 192, 1, 1])\n",
            "✅ Features saved - shape: torch.Size([1, 192, 1, 1])\n",
            "True class: ship, Predicted: automobile\n",
            "\n",
            "=== Generating CAM ===\n",
            "Input image shape: torch.Size([3, 32, 32])\n",
            "✅ Features saved - shape: torch.Size([1, 192, 1, 1])\n",
            "✅ Features saved - shape: torch.Size([1, 192, 1, 1])\n",
            "Model output shape: torch.Size([1, 10])\n",
            "Target class: 1\n",
            "✅ Gradients saved - shape: torch.Size([1, 192, 1, 1])\n",
            "✅ Gradients saved - shape: torch.Size([1, 192, 1, 1])\n",
            "✅ Backward pass completed\n",
            "Pooled gradients shape: torch.Size([1, 192, 1, 1])\n",
            "Activations shape: torch.Size([1, 192, 1, 1])\n",
            "Weighted activations shape: torch.Size([1, 192, 1, 1])\n",
            "Heatmap before processing shape: torch.Size([])\n",
            "Heatmap numpy shape: ()\n",
            "Heatmap after max(0): ()\n",
            "❌ Error generating heatmap for example 1: OpenCV(4.11.0) :-1: error: (-5:Bad argument) in function 'resize'\n",
            "> Overload resolution failed:\n",
            ">  - src is not a numpy array, neither a scalar\n",
            ">  - Expected Ptr<cv::UMat> for argument 'src'\n",
            "\n",
            "\n",
            "==== Processing example 3/5 ====\n",
            "✅ Features saved - shape: torch.Size([1, 192, 1, 1])\n",
            "✅ Features saved - shape: torch.Size([1, 192, 1, 1])\n",
            "True class: ship, Predicted: ship\n",
            "\n",
            "=== Generating CAM ===\n",
            "Input image shape: torch.Size([3, 32, 32])\n",
            "✅ Features saved - shape: torch.Size([1, 192, 1, 1])\n",
            "✅ Features saved - shape: torch.Size([1, 192, 1, 1])\n",
            "Model output shape: torch.Size([1, 10])\n",
            "Target class: 8\n",
            "✅ Gradients saved - shape: torch.Size([1, 192, 1, 1])\n",
            "✅ Gradients saved - shape: torch.Size([1, 192, 1, 1])\n",
            "✅ Backward pass completed\n",
            "Pooled gradients shape: torch.Size([1, 192, 1, 1])\n",
            "Activations shape: torch.Size([1, 192, 1, 1])\n",
            "Weighted activations shape: torch.Size([1, 192, 1, 1])\n",
            "Heatmap before processing shape: torch.Size([])\n",
            "Heatmap numpy shape: ()\n",
            "Heatmap after max(0): ()\n",
            "❌ Error generating heatmap for example 2: OpenCV(4.11.0) :-1: error: (-5:Bad argument) in function 'resize'\n",
            "> Overload resolution failed:\n",
            ">  - src is not a numpy array, neither a scalar\n",
            ">  - Expected Ptr<cv::UMat> for argument 'src'\n",
            "\n",
            "\n",
            "==== Processing example 4/5 ====\n",
            "✅ Features saved - shape: torch.Size([1, 192, 1, 1])\n",
            "✅ Features saved - shape: torch.Size([1, 192, 1, 1])\n",
            "True class: airplane, Predicted: airplane\n",
            "\n",
            "=== Generating CAM ===\n",
            "Input image shape: torch.Size([3, 32, 32])\n",
            "✅ Features saved - shape: torch.Size([1, 192, 1, 1])\n",
            "✅ Features saved - shape: torch.Size([1, 192, 1, 1])\n",
            "Model output shape: torch.Size([1, 10])\n",
            "Target class: 0\n",
            "✅ Gradients saved - shape: torch.Size([1, 192, 1, 1])\n",
            "✅ Gradients saved - shape: torch.Size([1, 192, 1, 1])\n",
            "✅ Backward pass completed\n",
            "Pooled gradients shape: torch.Size([1, 192, 1, 1])\n",
            "Activations shape: torch.Size([1, 192, 1, 1])\n",
            "Weighted activations shape: torch.Size([1, 192, 1, 1])\n",
            "Heatmap before processing shape: torch.Size([])\n",
            "Heatmap numpy shape: ()\n",
            "Heatmap after max(0): ()\n",
            "❌ Error generating heatmap for example 3: OpenCV(4.11.0) :-1: error: (-5:Bad argument) in function 'resize'\n",
            "> Overload resolution failed:\n",
            ">  - src is not a numpy array, neither a scalar\n",
            ">  - Expected Ptr<cv::UMat> for argument 'src'\n",
            "\n",
            "\n",
            "==== Processing example 5/5 ====\n",
            "✅ Features saved - shape: torch.Size([1, 192, 1, 1])\n",
            "✅ Features saved - shape: torch.Size([1, 192, 1, 1])\n",
            "True class: frog, Predicted: frog\n",
            "\n",
            "=== Generating CAM ===\n",
            "Input image shape: torch.Size([3, 32, 32])\n",
            "✅ Features saved - shape: torch.Size([1, 192, 1, 1])\n",
            "✅ Features saved - shape: torch.Size([1, 192, 1, 1])\n",
            "Model output shape: torch.Size([1, 10])\n",
            "Target class: 6\n",
            "✅ Gradients saved - shape: torch.Size([1, 192, 1, 1])\n",
            "✅ Gradients saved - shape: torch.Size([1, 192, 1, 1])\n",
            "✅ Backward pass completed\n",
            "Pooled gradients shape: torch.Size([1, 192, 1, 1])\n",
            "Activations shape: torch.Size([1, 192, 1, 1])\n",
            "Weighted activations shape: torch.Size([1, 192, 1, 1])\n",
            "Heatmap before processing shape: torch.Size([])\n",
            "Heatmap numpy shape: ()\n",
            "Heatmap after max(0): ()\n",
            "❌ Error generating heatmap for example 4: OpenCV(4.11.0) :-1: error: (-5:Bad argument) in function 'resize'\n",
            "> Overload resolution failed:\n",
            ">  - src is not a numpy array, neither a scalar\n",
            ">  - Expected Ptr<cv::UMat> for argument 'src'\n",
            "\n",
            "===== Visualization Complete =====\n"
          ]
        }
      ]
    }
  ]
}